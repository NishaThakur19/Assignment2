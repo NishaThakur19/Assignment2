{
  "nbformat": 4,
  "nbformat_minor": 0,
  "metadata": {
    "colab": {
      "provenance": [],
      "authorship_tag": "ABX9TyMOKldYqkbiHBFPQjVFdLqq",
      "include_colab_link": true
    },
    "kernelspec": {
      "name": "python3",
      "display_name": "Python 3"
    },
    "language_info": {
      "name": "python"
    }
  },
  "cells": [
    {
      "cell_type": "markdown",
      "metadata": {
        "id": "view-in-github",
        "colab_type": "text"
      },
      "source": [
        "<a href=\"https://colab.research.google.com/github/NishaThakur19/Assignment2/blob/main/Untitled0.ipynb\" target=\"_parent\"><img src=\"https://colab.research.google.com/assets/colab-badge.svg\" alt=\"Open In Colab\"/></a>"
      ]
    },
    {
      "cell_type": "markdown",
      "source": [],
      "metadata": {
        "id": "MSLLg45yCAOt"
      }
    },
    {
      "cell_type": "markdown",
      "source": [
        "Data Types and Structures\n",
        "1).What are data structures, and why are they important?\n",
        "● Data structures are specialized formats for organizing, processing, and storing data in a\n",
        "computer so it can be used efficiently. Common examples include arrays, linked lists, stacks,\n",
        "queues, trees, graphs, hash tables, and more.\n",
        "why are they important\n",
        "a.) Efficiency: The right data structure can significantly improve the performance of algorithms by\n",
        "optimizing data access and storage.\n",
        "b.)Organization: They help manage and organize data in ways that reflect real-world relationships.\n",
        "c.)Reusability: Well-designed data structures can be reused across different programs or systems.\n",
        "d.)Scalability: Efficient data structures are crucial for handling large amounts of data smoothly.\n",
        "e.)Problem Solving: Many complex problems can be broken down and solved more easily using the\n",
        "appropriate data structure.\n",
        "2).Explain the difference between mutable and immutable data types with examples.\n",
        "Mutable Data Types:- Mutable data types can be changed after they are created. This means you\n",
        "can modify, add, or remove elements without changing the object’s identity.\n",
        "*Examples of Mutable Data Types in Python:\n",
        "● List\n",
        "● dictionary\n",
        "● set\n",
        "Example:\n",
        "my_list = [1, 2, 3]"
      ],
      "metadata": {
        "id": "O89XrT-RCQVZ"
      }
    },
    {
      "cell_type": "markdown",
      "source": [],
      "metadata": {
        "id": "TOvt9REOCd7X"
      }
    },
    {
      "cell_type": "code",
      "source": [
        "Print (Nisha\n",
        "      )"
      ],
      "metadata": {
        "colab": {
          "base_uri": "https://localhost:8080/",
          "height": 141
        },
        "id": "SZm80L95CfCv",
        "outputId": "31e07601-b3a2-4b71-91a9-3935e7e9fe0a"
      },
      "execution_count": 1,
      "outputs": [
        {
          "output_type": "error",
          "ename": "NameError",
          "evalue": "name 'Print' is not defined",
          "traceback": [
            "\u001b[0;31m---------------------------------------------------------------------------\u001b[0m",
            "\u001b[0;31mNameError\u001b[0m                                 Traceback (most recent call last)",
            "\u001b[0;32m<ipython-input-1-8db4636a0216>\u001b[0m in \u001b[0;36m<cell line: 0>\u001b[0;34m()\u001b[0m\n\u001b[0;32m----> 1\u001b[0;31m \u001b[0mPrint\u001b[0m \u001b[0;34m(\u001b[0m\u001b[0;34m)\u001b[0m\u001b[0;34m\u001b[0m\u001b[0;34m\u001b[0m\u001b[0m\n\u001b[0m",
            "\u001b[0;31mNameError\u001b[0m: name 'Print' is not defined"
          ]
        }
      ]
    },
    {
      "cell_type": "code",
      "source": [],
      "metadata": {
        "id": "0RSx8wLXCgWE"
      },
      "execution_count": null,
      "outputs": []
    }
  ]
}